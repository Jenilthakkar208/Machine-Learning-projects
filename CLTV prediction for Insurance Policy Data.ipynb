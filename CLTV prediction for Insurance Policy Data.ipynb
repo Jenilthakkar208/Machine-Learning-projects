{
 "cells": [
  {
   "cell_type": "markdown",
   "id": "8e031e21",
   "metadata": {
    "_cell_guid": "b1076dfc-b9ad-4769-8c92-a6c4dae69d19",
    "_uuid": "8f2839f25d086af736a60e9eeb907d3b93b6e0e5",
    "execution": {
     "iopub.execute_input": "2023-01-22T12:24:58.766534Z",
     "iopub.status.busy": "2023-01-22T12:24:58.766218Z",
     "iopub.status.idle": "2023-01-22T12:25:01.831639Z",
     "shell.execute_reply": "2023-01-22T12:25:01.830440Z",
     "shell.execute_reply.started": "2023-01-22T12:24:58.766462Z"
    },
    "papermill": {
     "duration": 0.00983,
     "end_time": "2023-01-22T15:59:48.812768",
     "exception": false,
     "start_time": "2023-01-22T15:59:48.802938",
     "status": "completed"
    },
    "tags": []
   },
   "source": [
    "**Importing required librairies**"
   ]
  },
  {
   "cell_type": "code",
   "execution_count": 1,
   "id": "1a8b8f3f",
   "metadata": {
    "execution": {
     "iopub.execute_input": "2023-01-22T15:59:48.829591Z",
     "iopub.status.busy": "2023-01-22T15:59:48.829057Z",
     "iopub.status.idle": "2023-01-22T15:59:51.594291Z",
     "shell.execute_reply": "2023-01-22T15:59:51.593325Z"
    },
    "papermill": {
     "duration": 2.776839,
     "end_time": "2023-01-22T15:59:51.597138",
     "exception": false,
     "start_time": "2023-01-22T15:59:48.820299",
     "status": "completed"
    },
    "tags": []
   },
   "outputs": [
    {
     "data": {
      "text/html": [
       "<style type='text/css'>\n",
       ".datatable table.frame { margin-bottom: 0; }\n",
       ".datatable table.frame thead { border-bottom: none; }\n",
       ".datatable table.frame tr.coltypes td {  color: #FFFFFF;  line-height: 6px;  padding: 0 0.5em;}\n",
       ".datatable .bool    { background: #DDDD99; }\n",
       ".datatable .object  { background: #565656; }\n",
       ".datatable .int     { background: #5D9E5D; }\n",
       ".datatable .float   { background: #4040CC; }\n",
       ".datatable .str     { background: #CC4040; }\n",
       ".datatable .time    { background: #40CC40; }\n",
       ".datatable .row_index {  background: var(--jp-border-color3);  border-right: 1px solid var(--jp-border-color0);  color: var(--jp-ui-font-color3);  font-size: 9px;}\n",
       ".datatable .frame tbody td { text-align: left; }\n",
       ".datatable .frame tr.coltypes .row_index {  background: var(--jp-border-color0);}\n",
       ".datatable th:nth-child(2) { padding-left: 12px; }\n",
       ".datatable .hellipsis {  color: var(--jp-cell-editor-border-color);}\n",
       ".datatable .vellipsis {  background: var(--jp-layout-color0);  color: var(--jp-cell-editor-border-color);}\n",
       ".datatable .na {  color: var(--jp-cell-editor-border-color);  font-size: 80%;}\n",
       ".datatable .sp {  opacity: 0.25;}\n",
       ".datatable .footer { font-size: 9px; }\n",
       ".datatable .frame_dimensions {  background: var(--jp-border-color3);  border-top: 1px solid var(--jp-border-color0);  color: var(--jp-ui-font-color3);  display: inline-block;  opacity: 0.6;  padding: 1px 10px 1px 5px;}\n",
       "</style>\n"
      ],
      "text/plain": [
       "<IPython.core.display.HTML object>"
      ]
     },
     "metadata": {},
     "output_type": "display_data"
    }
   ],
   "source": [
    "import numpy as np\n",
    "import pandas as pd\n",
    "\n",
    "from sklearn.model_selection import KFold\n",
    "from sklearn.metrics import r2_score\n",
    "import lightgbm as lgb\n",
    "from lightgbm import LGBMRegressor \n",
    "from bayes_opt import BayesianOptimization\n",
    "\n",
    "import warnings\n",
    "warnings.filterwarnings(\"ignore\")"
   ]
  },
  {
   "cell_type": "markdown",
   "id": "a351f75a",
   "metadata": {
    "papermill": {
     "duration": 0.007435,
     "end_time": "2023-01-22T15:59:51.612401",
     "exception": false,
     "start_time": "2023-01-22T15:59:51.604966",
     "status": "completed"
    },
    "tags": []
   },
   "source": [
    "**Reading train, test and submission files**"
   ]
  },
  {
   "cell_type": "code",
   "execution_count": 2,
   "id": "21cf9982",
   "metadata": {
    "execution": {
     "iopub.execute_input": "2023-01-22T15:59:51.630149Z",
     "iopub.status.busy": "2023-01-22T15:59:51.629863Z",
     "iopub.status.idle": "2023-01-22T15:59:51.959197Z",
     "shell.execute_reply": "2023-01-22T15:59:51.958241Z"
    },
    "papermill": {
     "duration": 0.340288,
     "end_time": "2023-01-22T15:59:51.961695",
     "exception": false,
     "start_time": "2023-01-22T15:59:51.621407",
     "status": "completed"
    },
    "tags": []
   },
   "outputs": [],
   "source": [
    "train = pd.read_csv(\"train.csv\")\n",
    "test = pd.read_csv(\"test.csv\")\n",
    "submission = pd.read_csv(\"sample_submission.csv\")"
   ]
  },
  {
   "cell_type": "markdown",
   "id": "9af206b4",
   "metadata": {
    "papermill": {
     "duration": 0.007469,
     "end_time": "2023-01-22T15:59:51.977244",
     "exception": false,
     "start_time": "2023-01-22T15:59:51.969775",
     "status": "completed"
    },
    "tags": []
   },
   "source": [
    "**Data Analysis and Pre-processing**"
   ]
  },
  {
   "cell_type": "code",
   "execution_count": 3,
   "id": "3028cff5",
   "metadata": {
    "execution": {
     "iopub.execute_input": "2023-01-22T15:59:51.993568Z",
     "iopub.status.busy": "2023-01-22T15:59:51.993228Z",
     "iopub.status.idle": "2023-01-22T15:59:52.012707Z",
     "shell.execute_reply": "2023-01-22T15:59:52.011857Z"
    },
    "papermill": {
     "duration": 0.029933,
     "end_time": "2023-01-22T15:59:52.014684",
     "exception": false,
     "start_time": "2023-01-22T15:59:51.984751",
     "status": "completed"
    },
    "tags": []
   },
   "outputs": [
    {
     "data": {
      "text/html": [
       "<div>\n",
       "<style scoped>\n",
       "    .dataframe tbody tr th:only-of-type {\n",
       "        vertical-align: middle;\n",
       "    }\n",
       "\n",
       "    .dataframe tbody tr th {\n",
       "        vertical-align: top;\n",
       "    }\n",
       "\n",
       "    .dataframe thead th {\n",
       "        text-align: right;\n",
       "    }\n",
       "</style>\n",
       "<table border=\"1\" class=\"dataframe\">\n",
       "  <thead>\n",
       "    <tr style=\"text-align: right;\">\n",
       "      <th></th>\n",
       "      <th>id</th>\n",
       "      <th>gender</th>\n",
       "      <th>area</th>\n",
       "      <th>qualification</th>\n",
       "      <th>income</th>\n",
       "      <th>marital_status</th>\n",
       "      <th>vintage</th>\n",
       "      <th>claim_amount</th>\n",
       "      <th>num_policies</th>\n",
       "      <th>policy</th>\n",
       "      <th>type_of_policy</th>\n",
       "      <th>cltv</th>\n",
       "    </tr>\n",
       "  </thead>\n",
       "  <tbody>\n",
       "    <tr>\n",
       "      <th>0</th>\n",
       "      <td>1</td>\n",
       "      <td>Male</td>\n",
       "      <td>Urban</td>\n",
       "      <td>Bachelor</td>\n",
       "      <td>5L-10L</td>\n",
       "      <td>1</td>\n",
       "      <td>5</td>\n",
       "      <td>5790</td>\n",
       "      <td>More than 1</td>\n",
       "      <td>A</td>\n",
       "      <td>Platinum</td>\n",
       "      <td>64308</td>\n",
       "    </tr>\n",
       "    <tr>\n",
       "      <th>1</th>\n",
       "      <td>2</td>\n",
       "      <td>Male</td>\n",
       "      <td>Rural</td>\n",
       "      <td>High School</td>\n",
       "      <td>5L-10L</td>\n",
       "      <td>0</td>\n",
       "      <td>8</td>\n",
       "      <td>5080</td>\n",
       "      <td>More than 1</td>\n",
       "      <td>A</td>\n",
       "      <td>Platinum</td>\n",
       "      <td>515400</td>\n",
       "    </tr>\n",
       "  </tbody>\n",
       "</table>\n",
       "</div>"
      ],
      "text/plain": [
       "   id gender   area qualification  income  marital_status  vintage  \\\n",
       "0   1   Male  Urban      Bachelor  5L-10L               1        5   \n",
       "1   2   Male  Rural   High School  5L-10L               0        8   \n",
       "\n",
       "   claim_amount num_policies policy type_of_policy    cltv  \n",
       "0          5790  More than 1      A       Platinum   64308  \n",
       "1          5080  More than 1      A       Platinum  515400  "
      ]
     },
     "execution_count": 3,
     "metadata": {},
     "output_type": "execute_result"
    }
   ],
   "source": [
    "train.head(2)"
   ]
  },
  {
   "cell_type": "code",
   "execution_count": 4,
   "id": "c224c09f",
   "metadata": {
    "execution": {
     "iopub.execute_input": "2023-01-22T15:59:52.031748Z",
     "iopub.status.busy": "2023-01-22T15:59:52.031458Z",
     "iopub.status.idle": "2023-01-22T15:59:52.043783Z",
     "shell.execute_reply": "2023-01-22T15:59:52.042870Z"
    },
    "papermill": {
     "duration": 0.022926,
     "end_time": "2023-01-22T15:59:52.045822",
     "exception": false,
     "start_time": "2023-01-22T15:59:52.022896",
     "status": "completed"
    },
    "tags": []
   },
   "outputs": [
    {
     "data": {
      "text/html": [
       "<div>\n",
       "<style scoped>\n",
       "    .dataframe tbody tr th:only-of-type {\n",
       "        vertical-align: middle;\n",
       "    }\n",
       "\n",
       "    .dataframe tbody tr th {\n",
       "        vertical-align: top;\n",
       "    }\n",
       "\n",
       "    .dataframe thead th {\n",
       "        text-align: right;\n",
       "    }\n",
       "</style>\n",
       "<table border=\"1\" class=\"dataframe\">\n",
       "  <thead>\n",
       "    <tr style=\"text-align: right;\">\n",
       "      <th></th>\n",
       "      <th>id</th>\n",
       "      <th>gender</th>\n",
       "      <th>area</th>\n",
       "      <th>qualification</th>\n",
       "      <th>income</th>\n",
       "      <th>marital_status</th>\n",
       "      <th>vintage</th>\n",
       "      <th>claim_amount</th>\n",
       "      <th>num_policies</th>\n",
       "      <th>policy</th>\n",
       "      <th>type_of_policy</th>\n",
       "    </tr>\n",
       "  </thead>\n",
       "  <tbody>\n",
       "    <tr>\n",
       "      <th>0</th>\n",
       "      <td>89393</td>\n",
       "      <td>Female</td>\n",
       "      <td>Rural</td>\n",
       "      <td>High School</td>\n",
       "      <td>5L-10L</td>\n",
       "      <td>0</td>\n",
       "      <td>6</td>\n",
       "      <td>2134</td>\n",
       "      <td>More than 1</td>\n",
       "      <td>B</td>\n",
       "      <td>Silver</td>\n",
       "    </tr>\n",
       "    <tr>\n",
       "      <th>1</th>\n",
       "      <td>89394</td>\n",
       "      <td>Female</td>\n",
       "      <td>Urban</td>\n",
       "      <td>High School</td>\n",
       "      <td>2L-5L</td>\n",
       "      <td>0</td>\n",
       "      <td>4</td>\n",
       "      <td>4102</td>\n",
       "      <td>More than 1</td>\n",
       "      <td>A</td>\n",
       "      <td>Platinum</td>\n",
       "    </tr>\n",
       "  </tbody>\n",
       "</table>\n",
       "</div>"
      ],
      "text/plain": [
       "      id  gender   area qualification  income  marital_status  vintage  \\\n",
       "0  89393  Female  Rural   High School  5L-10L               0        6   \n",
       "1  89394  Female  Urban   High School   2L-5L               0        4   \n",
       "\n",
       "   claim_amount num_policies policy type_of_policy  \n",
       "0          2134  More than 1      B         Silver  \n",
       "1          4102  More than 1      A       Platinum  "
      ]
     },
     "execution_count": 4,
     "metadata": {},
     "output_type": "execute_result"
    }
   ],
   "source": [
    "test.head(2)"
   ]
  },
  {
   "cell_type": "code",
   "execution_count": 5,
   "id": "9989762a",
   "metadata": {
    "execution": {
     "iopub.execute_input": "2023-01-22T15:59:52.062481Z",
     "iopub.status.busy": "2023-01-22T15:59:52.062182Z",
     "iopub.status.idle": "2023-01-22T15:59:52.072955Z",
     "shell.execute_reply": "2023-01-22T15:59:52.072086Z"
    },
    "papermill": {
     "duration": 0.021342,
     "end_time": "2023-01-22T15:59:52.074924",
     "exception": false,
     "start_time": "2023-01-22T15:59:52.053582",
     "status": "completed"
    },
    "tags": []
   },
   "outputs": [
    {
     "data": {
      "text/html": [
       "<div>\n",
       "<style scoped>\n",
       "    .dataframe tbody tr th:only-of-type {\n",
       "        vertical-align: middle;\n",
       "    }\n",
       "\n",
       "    .dataframe tbody tr th {\n",
       "        vertical-align: top;\n",
       "    }\n",
       "\n",
       "    .dataframe thead th {\n",
       "        text-align: right;\n",
       "    }\n",
       "</style>\n",
       "<table border=\"1\" class=\"dataframe\">\n",
       "  <thead>\n",
       "    <tr style=\"text-align: right;\">\n",
       "      <th></th>\n",
       "      <th>id</th>\n",
       "      <th>cltv</th>\n",
       "    </tr>\n",
       "  </thead>\n",
       "  <tbody>\n",
       "    <tr>\n",
       "      <th>0</th>\n",
       "      <td>89393</td>\n",
       "      <td>97952.828978</td>\n",
       "    </tr>\n",
       "    <tr>\n",
       "      <th>1</th>\n",
       "      <td>89394</td>\n",
       "      <td>97952.828978</td>\n",
       "    </tr>\n",
       "  </tbody>\n",
       "</table>\n",
       "</div>"
      ],
      "text/plain": [
       "      id          cltv\n",
       "0  89393  97952.828978\n",
       "1  89394  97952.828978"
      ]
     },
     "execution_count": 5,
     "metadata": {},
     "output_type": "execute_result"
    }
   ],
   "source": [
    "submission.head(2)"
   ]
  },
  {
   "cell_type": "code",
   "execution_count": 6,
   "id": "3071ba4c",
   "metadata": {
    "execution": {
     "iopub.execute_input": "2023-01-22T15:59:52.092305Z",
     "iopub.status.busy": "2023-01-22T15:59:52.092024Z",
     "iopub.status.idle": "2023-01-22T15:59:52.097986Z",
     "shell.execute_reply": "2023-01-22T15:59:52.097099Z"
    },
    "papermill": {
     "duration": 0.01681,
     "end_time": "2023-01-22T15:59:52.099945",
     "exception": false,
     "start_time": "2023-01-22T15:59:52.083135",
     "status": "completed"
    },
    "tags": []
   },
   "outputs": [
    {
     "data": {
      "text/plain": [
       "((89392, 12), (59595, 11), (59595, 2))"
      ]
     },
     "execution_count": 6,
     "metadata": {},
     "output_type": "execute_result"
    }
   ],
   "source": [
    "train.shape, test.shape, submission.shape"
   ]
  },
  {
   "cell_type": "markdown",
   "id": "74ba3117",
   "metadata": {
    "papermill": {
     "duration": 0.00771,
     "end_time": "2023-01-22T15:59:52.115557",
     "exception": false,
     "start_time": "2023-01-22T15:59:52.107847",
     "status": "completed"
    },
    "tags": []
   },
   "source": [
    "Separating dependent and independent features from dataframes"
   ]
  },
  {
   "cell_type": "code",
   "execution_count": 7,
   "id": "3900322d",
   "metadata": {
    "execution": {
     "iopub.execute_input": "2023-01-22T15:59:52.132392Z",
     "iopub.status.busy": "2023-01-22T15:59:52.132114Z",
     "iopub.status.idle": "2023-01-22T15:59:52.150891Z",
     "shell.execute_reply": "2023-01-22T15:59:52.150038Z"
    },
    "papermill": {
     "duration": 0.029384,
     "end_time": "2023-01-22T15:59:52.152845",
     "exception": false,
     "start_time": "2023-01-22T15:59:52.123461",
     "status": "completed"
    },
    "tags": []
   },
   "outputs": [],
   "source": [
    "train_x = train.iloc[:,1:-1] # Removing 'id' and target column from the train dataset\n",
    "train_y = train.iloc[:,-1:] # Creating a dataframe with only target column\n",
    "test_x = test.iloc[:,1:] # Removing 'id' column from the test dataset"
   ]
  },
  {
   "cell_type": "code",
   "execution_count": 8,
   "id": "8bf5baab",
   "metadata": {
    "execution": {
     "iopub.execute_input": "2023-01-22T15:59:52.170084Z",
     "iopub.status.busy": "2023-01-22T15:59:52.169816Z",
     "iopub.status.idle": "2023-01-22T15:59:52.175572Z",
     "shell.execute_reply": "2023-01-22T15:59:52.174638Z"
    },
    "papermill": {
     "duration": 0.016735,
     "end_time": "2023-01-22T15:59:52.177578",
     "exception": false,
     "start_time": "2023-01-22T15:59:52.160843",
     "status": "completed"
    },
    "tags": []
   },
   "outputs": [
    {
     "data": {
      "text/plain": [
       "((89392, 10), (59595, 10))"
      ]
     },
     "execution_count": 8,
     "metadata": {},
     "output_type": "execute_result"
    }
   ],
   "source": [
    "train_x.shape, test_x.shape"
   ]
  },
  {
   "cell_type": "code",
   "execution_count": 9,
   "id": "af2741a2",
   "metadata": {
    "execution": {
     "iopub.execute_input": "2023-01-22T15:59:52.194794Z",
     "iopub.status.busy": "2023-01-22T15:59:52.194538Z",
     "iopub.status.idle": "2023-01-22T15:59:52.208226Z",
     "shell.execute_reply": "2023-01-22T15:59:52.207409Z"
    },
    "papermill": {
     "duration": 0.024577,
     "end_time": "2023-01-22T15:59:52.210347",
     "exception": false,
     "start_time": "2023-01-22T15:59:52.185770",
     "status": "completed"
    },
    "tags": []
   },
   "outputs": [
    {
     "data": {
      "text/html": [
       "<div>\n",
       "<style scoped>\n",
       "    .dataframe tbody tr th:only-of-type {\n",
       "        vertical-align: middle;\n",
       "    }\n",
       "\n",
       "    .dataframe tbody tr th {\n",
       "        vertical-align: top;\n",
       "    }\n",
       "\n",
       "    .dataframe thead th {\n",
       "        text-align: right;\n",
       "    }\n",
       "</style>\n",
       "<table border=\"1\" class=\"dataframe\">\n",
       "  <thead>\n",
       "    <tr style=\"text-align: right;\">\n",
       "      <th></th>\n",
       "      <th>gender</th>\n",
       "      <th>area</th>\n",
       "      <th>qualification</th>\n",
       "      <th>income</th>\n",
       "      <th>marital_status</th>\n",
       "      <th>vintage</th>\n",
       "      <th>claim_amount</th>\n",
       "      <th>num_policies</th>\n",
       "      <th>policy</th>\n",
       "      <th>type_of_policy</th>\n",
       "    </tr>\n",
       "  </thead>\n",
       "  <tbody>\n",
       "    <tr>\n",
       "      <th>0</th>\n",
       "      <td>Male</td>\n",
       "      <td>Urban</td>\n",
       "      <td>Bachelor</td>\n",
       "      <td>5L-10L</td>\n",
       "      <td>1</td>\n",
       "      <td>5</td>\n",
       "      <td>5790</td>\n",
       "      <td>More than 1</td>\n",
       "      <td>A</td>\n",
       "      <td>Platinum</td>\n",
       "    </tr>\n",
       "    <tr>\n",
       "      <th>1</th>\n",
       "      <td>Male</td>\n",
       "      <td>Rural</td>\n",
       "      <td>High School</td>\n",
       "      <td>5L-10L</td>\n",
       "      <td>0</td>\n",
       "      <td>8</td>\n",
       "      <td>5080</td>\n",
       "      <td>More than 1</td>\n",
       "      <td>A</td>\n",
       "      <td>Platinum</td>\n",
       "    </tr>\n",
       "  </tbody>\n",
       "</table>\n",
       "</div>"
      ],
      "text/plain": [
       "  gender   area qualification  income  marital_status  vintage  claim_amount  \\\n",
       "0   Male  Urban      Bachelor  5L-10L               1        5          5790   \n",
       "1   Male  Rural   High School  5L-10L               0        8          5080   \n",
       "\n",
       "  num_policies policy type_of_policy  \n",
       "0  More than 1      A       Platinum  \n",
       "1  More than 1      A       Platinum  "
      ]
     },
     "execution_count": 9,
     "metadata": {},
     "output_type": "execute_result"
    }
   ],
   "source": [
    "train_x.head(2)"
   ]
  },
  {
   "cell_type": "code",
   "execution_count": 10,
   "id": "663b0d85",
   "metadata": {
    "execution": {
     "iopub.execute_input": "2023-01-22T15:59:52.229125Z",
     "iopub.status.busy": "2023-01-22T15:59:52.228765Z",
     "iopub.status.idle": "2023-01-22T15:59:52.265448Z",
     "shell.execute_reply": "2023-01-22T15:59:52.264405Z"
    },
    "papermill": {
     "duration": 0.049381,
     "end_time": "2023-01-22T15:59:52.268061",
     "exception": false,
     "start_time": "2023-01-22T15:59:52.218680",
     "status": "completed"
    },
    "tags": []
   },
   "outputs": [],
   "source": [
    "# Combining both train and test independent features for feature engineering at a single time\n",
    "X = pd.concat([train_x, test_x], axis=0)"
   ]
  },
  {
   "cell_type": "code",
   "execution_count": 11,
   "id": "192baf64",
   "metadata": {
    "execution": {
     "iopub.execute_input": "2023-01-22T15:59:52.286327Z",
     "iopub.status.busy": "2023-01-22T15:59:52.286023Z",
     "iopub.status.idle": "2023-01-22T15:59:52.299544Z",
     "shell.execute_reply": "2023-01-22T15:59:52.298624Z"
    },
    "papermill": {
     "duration": 0.024836,
     "end_time": "2023-01-22T15:59:52.301568",
     "exception": false,
     "start_time": "2023-01-22T15:59:52.276732",
     "status": "completed"
    },
    "tags": []
   },
   "outputs": [
    {
     "data": {
      "text/html": [
       "<div>\n",
       "<style scoped>\n",
       "    .dataframe tbody tr th:only-of-type {\n",
       "        vertical-align: middle;\n",
       "    }\n",
       "\n",
       "    .dataframe tbody tr th {\n",
       "        vertical-align: top;\n",
       "    }\n",
       "\n",
       "    .dataframe thead th {\n",
       "        text-align: right;\n",
       "    }\n",
       "</style>\n",
       "<table border=\"1\" class=\"dataframe\">\n",
       "  <thead>\n",
       "    <tr style=\"text-align: right;\">\n",
       "      <th></th>\n",
       "      <th>gender</th>\n",
       "      <th>area</th>\n",
       "      <th>qualification</th>\n",
       "      <th>income</th>\n",
       "      <th>marital_status</th>\n",
       "      <th>vintage</th>\n",
       "      <th>claim_amount</th>\n",
       "      <th>num_policies</th>\n",
       "      <th>policy</th>\n",
       "      <th>type_of_policy</th>\n",
       "    </tr>\n",
       "  </thead>\n",
       "  <tbody>\n",
       "    <tr>\n",
       "      <th>0</th>\n",
       "      <td>Male</td>\n",
       "      <td>Urban</td>\n",
       "      <td>Bachelor</td>\n",
       "      <td>5L-10L</td>\n",
       "      <td>1</td>\n",
       "      <td>5</td>\n",
       "      <td>5790</td>\n",
       "      <td>More than 1</td>\n",
       "      <td>A</td>\n",
       "      <td>Platinum</td>\n",
       "    </tr>\n",
       "    <tr>\n",
       "      <th>1</th>\n",
       "      <td>Male</td>\n",
       "      <td>Rural</td>\n",
       "      <td>High School</td>\n",
       "      <td>5L-10L</td>\n",
       "      <td>0</td>\n",
       "      <td>8</td>\n",
       "      <td>5080</td>\n",
       "      <td>More than 1</td>\n",
       "      <td>A</td>\n",
       "      <td>Platinum</td>\n",
       "    </tr>\n",
       "  </tbody>\n",
       "</table>\n",
       "</div>"
      ],
      "text/plain": [
       "  gender   area qualification  income  marital_status  vintage  claim_amount  \\\n",
       "0   Male  Urban      Bachelor  5L-10L               1        5          5790   \n",
       "1   Male  Rural   High School  5L-10L               0        8          5080   \n",
       "\n",
       "  num_policies policy type_of_policy  \n",
       "0  More than 1      A       Platinum  \n",
       "1  More than 1      A       Platinum  "
      ]
     },
     "execution_count": 11,
     "metadata": {},
     "output_type": "execute_result"
    }
   ],
   "source": [
    "X.head(2)"
   ]
  },
  {
   "cell_type": "code",
   "execution_count": 12,
   "id": "dbc319fe",
   "metadata": {
    "execution": {
     "iopub.execute_input": "2023-01-22T15:59:52.319531Z",
     "iopub.status.busy": "2023-01-22T15:59:52.319215Z",
     "iopub.status.idle": "2023-01-22T15:59:52.325348Z",
     "shell.execute_reply": "2023-01-22T15:59:52.324327Z"
    },
    "papermill": {
     "duration": 0.018303,
     "end_time": "2023-01-22T15:59:52.328284",
     "exception": false,
     "start_time": "2023-01-22T15:59:52.309981",
     "status": "completed"
    },
    "tags": []
   },
   "outputs": [
    {
     "data": {
      "text/plain": [
       "(148987, 10)"
      ]
     },
     "execution_count": 12,
     "metadata": {},
     "output_type": "execute_result"
    }
   ],
   "source": [
    "X.shape"
   ]
  },
  {
   "cell_type": "code",
   "execution_count": 13,
   "id": "0846163e",
   "metadata": {
    "execution": {
     "iopub.execute_input": "2023-01-22T15:59:52.346264Z",
     "iopub.status.busy": "2023-01-22T15:59:52.345995Z",
     "iopub.status.idle": "2023-01-22T15:59:52.491358Z",
     "shell.execute_reply": "2023-01-22T15:59:52.490395Z"
    },
    "papermill": {
     "duration": 0.157143,
     "end_time": "2023-01-22T15:59:52.493897",
     "exception": false,
     "start_time": "2023-01-22T15:59:52.336754",
     "status": "completed"
    },
    "tags": []
   },
   "outputs": [],
   "source": [
    "# One hot encoding all the categorical columns and removing the first one\n",
    "one_hot_columns = ['gender', 'area','qualification','income','num_policies','policy','type_of_policy']\n",
    "X_ohe = pd.get_dummies(data=X, columns=one_hot_columns,drop_first=True)"
   ]
  },
  {
   "cell_type": "code",
   "execution_count": 14,
   "id": "6e3f69f6",
   "metadata": {
    "execution": {
     "iopub.execute_input": "2023-01-22T15:59:52.513257Z",
     "iopub.status.busy": "2023-01-22T15:59:52.512420Z",
     "iopub.status.idle": "2023-01-22T15:59:52.520286Z",
     "shell.execute_reply": "2023-01-22T15:59:52.519350Z"
    },
    "papermill": {
     "duration": 0.019331,
     "end_time": "2023-01-22T15:59:52.522332",
     "exception": false,
     "start_time": "2023-01-22T15:59:52.503001",
     "status": "completed"
    },
    "tags": []
   },
   "outputs": [],
   "source": [
    "X = X_ohe"
   ]
  },
  {
   "cell_type": "code",
   "execution_count": 15,
   "id": "f804a52f",
   "metadata": {
    "execution": {
     "iopub.execute_input": "2023-01-22T15:59:52.540364Z",
     "iopub.status.busy": "2023-01-22T15:59:52.540089Z",
     "iopub.status.idle": "2023-01-22T15:59:52.552295Z",
     "shell.execute_reply": "2023-01-22T15:59:52.551354Z"
    },
    "papermill": {
     "duration": 0.023433,
     "end_time": "2023-01-22T15:59:52.554280",
     "exception": false,
     "start_time": "2023-01-22T15:59:52.530847",
     "status": "completed"
    },
    "tags": []
   },
   "outputs": [
    {
     "data": {
      "text/html": [
       "<div>\n",
       "<style scoped>\n",
       "    .dataframe tbody tr th:only-of-type {\n",
       "        vertical-align: middle;\n",
       "    }\n",
       "\n",
       "    .dataframe tbody tr th {\n",
       "        vertical-align: top;\n",
       "    }\n",
       "\n",
       "    .dataframe thead th {\n",
       "        text-align: right;\n",
       "    }\n",
       "</style>\n",
       "<table border=\"1\" class=\"dataframe\">\n",
       "  <thead>\n",
       "    <tr style=\"text-align: right;\">\n",
       "      <th></th>\n",
       "      <th>marital_status</th>\n",
       "      <th>vintage</th>\n",
       "      <th>claim_amount</th>\n",
       "      <th>gender_Male</th>\n",
       "      <th>area_Urban</th>\n",
       "      <th>qualification_High School</th>\n",
       "      <th>qualification_Others</th>\n",
       "      <th>income_5L-10L</th>\n",
       "      <th>income_&lt;=2L</th>\n",
       "      <th>income_More than 10L</th>\n",
       "      <th>num_policies_More than 1</th>\n",
       "      <th>policy_B</th>\n",
       "      <th>policy_C</th>\n",
       "      <th>type_of_policy_Platinum</th>\n",
       "      <th>type_of_policy_Silver</th>\n",
       "    </tr>\n",
       "  </thead>\n",
       "  <tbody>\n",
       "    <tr>\n",
       "      <th>0</th>\n",
       "      <td>1</td>\n",
       "      <td>5</td>\n",
       "      <td>5790</td>\n",
       "      <td>1</td>\n",
       "      <td>1</td>\n",
       "      <td>0</td>\n",
       "      <td>0</td>\n",
       "      <td>1</td>\n",
       "      <td>0</td>\n",
       "      <td>0</td>\n",
       "      <td>1</td>\n",
       "      <td>0</td>\n",
       "      <td>0</td>\n",
       "      <td>1</td>\n",
       "      <td>0</td>\n",
       "    </tr>\n",
       "    <tr>\n",
       "      <th>1</th>\n",
       "      <td>0</td>\n",
       "      <td>8</td>\n",
       "      <td>5080</td>\n",
       "      <td>1</td>\n",
       "      <td>0</td>\n",
       "      <td>1</td>\n",
       "      <td>0</td>\n",
       "      <td>1</td>\n",
       "      <td>0</td>\n",
       "      <td>0</td>\n",
       "      <td>1</td>\n",
       "      <td>0</td>\n",
       "      <td>0</td>\n",
       "      <td>1</td>\n",
       "      <td>0</td>\n",
       "    </tr>\n",
       "  </tbody>\n",
       "</table>\n",
       "</div>"
      ],
      "text/plain": [
       "   marital_status  vintage  claim_amount  gender_Male  area_Urban  \\\n",
       "0               1        5          5790            1           1   \n",
       "1               0        8          5080            1           0   \n",
       "\n",
       "   qualification_High School  qualification_Others  income_5L-10L  \\\n",
       "0                          0                     0              1   \n",
       "1                          1                     0              1   \n",
       "\n",
       "   income_<=2L  income_More than 10L  num_policies_More than 1  policy_B  \\\n",
       "0            0                     0                         1         0   \n",
       "1            0                     0                         1         0   \n",
       "\n",
       "   policy_C  type_of_policy_Platinum  type_of_policy_Silver  \n",
       "0         0                        1                      0  \n",
       "1         0                        1                      0  "
      ]
     },
     "execution_count": 15,
     "metadata": {},
     "output_type": "execute_result"
    }
   ],
   "source": [
    "X.head(2)"
   ]
  },
  {
   "cell_type": "code",
   "execution_count": 16,
   "id": "a6b5ff17",
   "metadata": {
    "execution": {
     "iopub.execute_input": "2023-01-22T15:59:52.572751Z",
     "iopub.status.busy": "2023-01-22T15:59:52.572482Z",
     "iopub.status.idle": "2023-01-22T15:59:52.579919Z",
     "shell.execute_reply": "2023-01-22T15:59:52.579074Z"
    },
    "papermill": {
     "duration": 0.01899,
     "end_time": "2023-01-22T15:59:52.581888",
     "exception": false,
     "start_time": "2023-01-22T15:59:52.562898",
     "status": "completed"
    },
    "tags": []
   },
   "outputs": [
    {
     "data": {
      "text/plain": [
       "(148987, 15)"
      ]
     },
     "execution_count": 16,
     "metadata": {},
     "output_type": "execute_result"
    }
   ],
   "source": [
    "X.shape"
   ]
  },
  {
   "cell_type": "code",
   "execution_count": 17,
   "id": "2bdf6e3c",
   "metadata": {
    "execution": {
     "iopub.execute_input": "2023-01-22T15:59:52.600373Z",
     "iopub.status.busy": "2023-01-22T15:59:52.600111Z",
     "iopub.status.idle": "2023-01-22T15:59:52.606002Z",
     "shell.execute_reply": "2023-01-22T15:59:52.605028Z"
    },
    "papermill": {
     "duration": 0.017264,
     "end_time": "2023-01-22T15:59:52.607902",
     "exception": false,
     "start_time": "2023-01-22T15:59:52.590638",
     "status": "completed"
    },
    "tags": []
   },
   "outputs": [],
   "source": [
    "# Separating back train and test datasets based on their previous length\n",
    "train_x = X.iloc[:89392,:]\n",
    "test_x = X.iloc[89392:,:]"
   ]
  },
  {
   "cell_type": "code",
   "execution_count": 18,
   "id": "13f34fdc",
   "metadata": {
    "execution": {
     "iopub.execute_input": "2023-01-22T15:59:52.626253Z",
     "iopub.status.busy": "2023-01-22T15:59:52.625990Z",
     "iopub.status.idle": "2023-01-22T15:59:52.631850Z",
     "shell.execute_reply": "2023-01-22T15:59:52.630824Z"
    },
    "papermill": {
     "duration": 0.017411,
     "end_time": "2023-01-22T15:59:52.633980",
     "exception": false,
     "start_time": "2023-01-22T15:59:52.616569",
     "status": "completed"
    },
    "tags": []
   },
   "outputs": [
    {
     "data": {
      "text/plain": [
       "((89392, 15), (59595, 15))"
      ]
     },
     "execution_count": 18,
     "metadata": {},
     "output_type": "execute_result"
    }
   ],
   "source": [
    "train_x.shape, test_x.shape"
   ]
  },
  {
   "cell_type": "code",
   "execution_count": 19,
   "id": "67e8ff62",
   "metadata": {
    "execution": {
     "iopub.execute_input": "2023-01-22T15:59:52.652720Z",
     "iopub.status.busy": "2023-01-22T15:59:52.652457Z",
     "iopub.status.idle": "2023-01-22T15:59:52.661062Z",
     "shell.execute_reply": "2023-01-22T15:59:52.660112Z"
    },
    "papermill": {
     "duration": 0.020085,
     "end_time": "2023-01-22T15:59:52.663015",
     "exception": false,
     "start_time": "2023-01-22T15:59:52.642930",
     "status": "completed"
    },
    "tags": []
   },
   "outputs": [
    {
     "data": {
      "text/html": [
       "<div>\n",
       "<style scoped>\n",
       "    .dataframe tbody tr th:only-of-type {\n",
       "        vertical-align: middle;\n",
       "    }\n",
       "\n",
       "    .dataframe tbody tr th {\n",
       "        vertical-align: top;\n",
       "    }\n",
       "\n",
       "    .dataframe thead th {\n",
       "        text-align: right;\n",
       "    }\n",
       "</style>\n",
       "<table border=\"1\" class=\"dataframe\">\n",
       "  <thead>\n",
       "    <tr style=\"text-align: right;\">\n",
       "      <th></th>\n",
       "      <th>cltv</th>\n",
       "    </tr>\n",
       "  </thead>\n",
       "  <tbody>\n",
       "    <tr>\n",
       "      <th>0</th>\n",
       "      <td>64308</td>\n",
       "    </tr>\n",
       "    <tr>\n",
       "      <th>1</th>\n",
       "      <td>515400</td>\n",
       "    </tr>\n",
       "  </tbody>\n",
       "</table>\n",
       "</div>"
      ],
      "text/plain": [
       "     cltv\n",
       "0   64308\n",
       "1  515400"
      ]
     },
     "execution_count": 19,
     "metadata": {},
     "output_type": "execute_result"
    }
   ],
   "source": [
    "train_y.head(2)"
   ]
  },
  {
   "cell_type": "code",
   "execution_count": 20,
   "id": "df682dbb",
   "metadata": {
    "execution": {
     "iopub.execute_input": "2023-01-22T15:59:52.681813Z",
     "iopub.status.busy": "2023-01-22T15:59:52.681555Z",
     "iopub.status.idle": "2023-01-22T15:59:52.688317Z",
     "shell.execute_reply": "2023-01-22T15:59:52.687411Z"
    },
    "papermill": {
     "duration": 0.018314,
     "end_time": "2023-01-22T15:59:52.690296",
     "exception": false,
     "start_time": "2023-01-22T15:59:52.671982",
     "status": "completed"
    },
    "tags": []
   },
   "outputs": [
    {
     "data": {
      "text/plain": [
       "(89392,)"
      ]
     },
     "execution_count": 20,
     "metadata": {},
     "output_type": "execute_result"
    }
   ],
   "source": [
    "train_y = train_y['cltv']\n",
    "train_y.shape"
   ]
  },
  {
   "cell_type": "code",
   "execution_count": 21,
   "id": "4696c7e9",
   "metadata": {
    "execution": {
     "iopub.execute_input": "2023-01-22T15:59:52.709280Z",
     "iopub.status.busy": "2023-01-22T15:59:52.709023Z",
     "iopub.status.idle": "2023-01-22T15:59:52.721122Z",
     "shell.execute_reply": "2023-01-22T15:59:52.720130Z"
    },
    "papermill": {
     "duration": 0.023911,
     "end_time": "2023-01-22T15:59:52.723293",
     "exception": false,
     "start_time": "2023-01-22T15:59:52.699382",
     "status": "completed"
    },
    "tags": []
   },
   "outputs": [
    {
     "data": {
      "text/html": [
       "<div>\n",
       "<style scoped>\n",
       "    .dataframe tbody tr th:only-of-type {\n",
       "        vertical-align: middle;\n",
       "    }\n",
       "\n",
       "    .dataframe tbody tr th {\n",
       "        vertical-align: top;\n",
       "    }\n",
       "\n",
       "    .dataframe thead th {\n",
       "        text-align: right;\n",
       "    }\n",
       "</style>\n",
       "<table border=\"1\" class=\"dataframe\">\n",
       "  <thead>\n",
       "    <tr style=\"text-align: right;\">\n",
       "      <th></th>\n",
       "      <th>marital_status</th>\n",
       "      <th>vintage</th>\n",
       "      <th>claim_amount</th>\n",
       "      <th>gender_Male</th>\n",
       "      <th>area_Urban</th>\n",
       "      <th>qualification_High School</th>\n",
       "      <th>qualification_Others</th>\n",
       "      <th>income_5L-10L</th>\n",
       "      <th>income_&lt;=2L</th>\n",
       "      <th>income_More than 10L</th>\n",
       "      <th>num_policies_More than 1</th>\n",
       "      <th>policy_B</th>\n",
       "      <th>policy_C</th>\n",
       "      <th>type_of_policy_Platinum</th>\n",
       "      <th>type_of_policy_Silver</th>\n",
       "    </tr>\n",
       "  </thead>\n",
       "  <tbody>\n",
       "    <tr>\n",
       "      <th>0</th>\n",
       "      <td>1</td>\n",
       "      <td>5</td>\n",
       "      <td>5790</td>\n",
       "      <td>1</td>\n",
       "      <td>1</td>\n",
       "      <td>0</td>\n",
       "      <td>0</td>\n",
       "      <td>1</td>\n",
       "      <td>0</td>\n",
       "      <td>0</td>\n",
       "      <td>1</td>\n",
       "      <td>0</td>\n",
       "      <td>0</td>\n",
       "      <td>1</td>\n",
       "      <td>0</td>\n",
       "    </tr>\n",
       "    <tr>\n",
       "      <th>1</th>\n",
       "      <td>0</td>\n",
       "      <td>8</td>\n",
       "      <td>5080</td>\n",
       "      <td>1</td>\n",
       "      <td>0</td>\n",
       "      <td>1</td>\n",
       "      <td>0</td>\n",
       "      <td>1</td>\n",
       "      <td>0</td>\n",
       "      <td>0</td>\n",
       "      <td>1</td>\n",
       "      <td>0</td>\n",
       "      <td>0</td>\n",
       "      <td>1</td>\n",
       "      <td>0</td>\n",
       "    </tr>\n",
       "  </tbody>\n",
       "</table>\n",
       "</div>"
      ],
      "text/plain": [
       "   marital_status  vintage  claim_amount  gender_Male  area_Urban  \\\n",
       "0               1        5          5790            1           1   \n",
       "1               0        8          5080            1           0   \n",
       "\n",
       "   qualification_High School  qualification_Others  income_5L-10L  \\\n",
       "0                          0                     0              1   \n",
       "1                          1                     0              1   \n",
       "\n",
       "   income_<=2L  income_More than 10L  num_policies_More than 1  policy_B  \\\n",
       "0            0                     0                         1         0   \n",
       "1            0                     0                         1         0   \n",
       "\n",
       "   policy_C  type_of_policy_Platinum  type_of_policy_Silver  \n",
       "0         0                        1                      0  \n",
       "1         0                        1                      0  "
      ]
     },
     "execution_count": 21,
     "metadata": {},
     "output_type": "execute_result"
    }
   ],
   "source": [
    "train_x.head(2)"
   ]
  },
  {
   "cell_type": "markdown",
   "id": "dde22398",
   "metadata": {
    "papermill": {
     "duration": 0.008886,
     "end_time": "2023-01-22T15:59:52.741294",
     "exception": false,
     "start_time": "2023-01-22T15:59:52.732408",
     "status": "completed"
    },
    "tags": []
   },
   "source": [
    "**Model Building**"
   ]
  },
  {
   "cell_type": "code",
   "execution_count": 22,
   "id": "23c58b62",
   "metadata": {
    "execution": {
     "iopub.execute_input": "2023-01-22T15:59:52.760525Z",
     "iopub.status.busy": "2023-01-22T15:59:52.760224Z",
     "iopub.status.idle": "2023-01-22T15:59:52.765028Z",
     "shell.execute_reply": "2023-01-22T15:59:52.763913Z"
    },
    "papermill": {
     "duration": 0.016861,
     "end_time": "2023-01-22T15:59:52.767219",
     "exception": false,
     "start_time": "2023-01-22T15:59:52.750358",
     "status": "completed"
    },
    "tags": []
   },
   "outputs": [],
   "source": [
    "# In our data, only 'vintage' and 'claim_amount' are not categorical columns. So using them in lightgbm model\n",
    "column_names = list(train_x.columns)\n",
    "cat_features = [i for i in column_names if i not in ['vintage','claim_amount']]"
   ]
  },
  {
   "cell_type": "code",
   "execution_count": 23,
   "id": "e8cae562",
   "metadata": {
    "execution": {
     "iopub.execute_input": "2023-01-22T15:59:52.786330Z",
     "iopub.status.busy": "2023-01-22T15:59:52.786072Z",
     "iopub.status.idle": "2023-01-22T15:59:52.793280Z",
     "shell.execute_reply": "2023-01-22T15:59:52.792474Z"
    },
    "papermill": {
     "duration": 0.018968,
     "end_time": "2023-01-22T15:59:52.795210",
     "exception": false,
     "start_time": "2023-01-22T15:59:52.776242",
     "status": "completed"
    },
    "tags": []
   },
   "outputs": [
    {
     "data": {
      "text/plain": [
       "13"
      ]
     },
     "execution_count": 23,
     "metadata": {},
     "output_type": "execute_result"
    }
   ],
   "source": [
    "len(cat_features)"
   ]
  },
  {
   "cell_type": "code",
   "execution_count": 1,
   "id": "88a6d43d",
   "metadata": {},
   "outputs": [
    {
     "data": {
      "text/plain": [
       "'C:\\\\Users\\\\Hp\\\\Downloads'"
      ]
     },
     "execution_count": 1,
     "metadata": {},
     "output_type": "execute_result"
    }
   ],
   "source": [
    "pwd"
   ]
  },
  {
   "cell_type": "code",
   "execution_count": 24,
   "id": "3182d041",
   "metadata": {
    "execution": {
     "iopub.execute_input": "2023-01-22T15:59:52.814766Z",
     "iopub.status.busy": "2023-01-22T15:59:52.814510Z",
     "iopub.status.idle": "2023-01-22T15:59:52.826963Z",
     "shell.execute_reply": "2023-01-22T15:59:52.825964Z"
    },
    "papermill": {
     "duration": 0.024866,
     "end_time": "2023-01-22T15:59:52.829248",
     "exception": false,
     "start_time": "2023-01-22T15:59:52.804382",
     "status": "completed"
    },
    "tags": []
   },
   "outputs": [],
   "source": [
    "# This function will use bayesian optimization for searching the best parameters for our dataset\n",
    "def search_best_param(X,y,cat_features):\n",
    "    \n",
    "    trainXY = lgb.Dataset(data=X, label=y,categorical_feature = cat_features,free_raw_data=False)\n",
    "    def lightGBM_CV(max_depth, num_leaves, n_estimators, learning_rate, subsample, colsample_bytree, \n",
    "                lambda_l1, lambda_l2, min_child_weight):\n",
    "    \n",
    "        params = {'boosting_type': 'gbdt', 'objective': 'regression', 'metric':'rmse', 'verbose': -1,\n",
    "                  'early_stopping_round':500}\n",
    "        \n",
    "        params['max_depth'] = int(round(max_depth))\n",
    "        params[\"num_leaves\"] = int(round(num_leaves))\n",
    "        params[\"n_estimators\"] = int(round(n_estimators))\n",
    "        params['learning_rate'] = learning_rate\n",
    "        params['subsample'] = subsample\n",
    "        params['colsample_bytree'] = colsample_bytree\n",
    "        params['lambda_l1'] = max(lambda_l1, 0)\n",
    "        params['lambda_l2'] = max(lambda_l2, 0)\n",
    "        params['min_child_weight'] = min_child_weight\n",
    "    \n",
    "        score = lgb.cv(params, trainXY, nfold=5, seed=1, stratified=False, verbose_eval =False, metrics=['rmse'])\n",
    "\n",
    "        return -np.min(score['rmse-mean']) \n",
    "\n",
    "    # using bayesian optimization for the best hyper-parameters\n",
    "    lightGBM_Bo = BayesianOptimization(lightGBM_CV, \n",
    "                                       {\n",
    "                                          'max_depth': (5, 100),\n",
    "                                          'num_leaves': (20, 200),\n",
    "                                          'n_estimators': (50, 10000),\n",
    "                                          'learning_rate': (0.005, 0.3),\n",
    "                                          'subsample': (0.1, 1),\n",
    "                                          'colsample_bytree' :(0.1, 0.99),\n",
    "                                          'lambda_l1': (0, 5),\n",
    "                                          'lambda_l2': (0, 3),\n",
    "                                          'min_child_weight': (2, 100) \n",
    "                                      },\n",
    "                                       random_state = 1,\n",
    "                                       verbose = 0\n",
    "                                      )\n",
    "    np.random.seed(1)\n",
    "    \n",
    "    lightGBM_Bo.maximize(init_points=5, n_iter=25) \n",
    "    \n",
    "    params_set = lightGBM_Bo.max['params']\n",
    "    \n",
    "    # get the params of the maximum target     \n",
    "    max_target = -np.inf\n",
    "    for i in lightGBM_Bo.res: # loop thru all the residuals \n",
    "        if i['target'] > max_target:\n",
    "            params_set = i['params']\n",
    "            max_target = i['target']\n",
    "    \n",
    "    params_set.update({'verbose': -1})\n",
    "    params_set.update({'metric': 'rmse'})\n",
    "    params_set.update({'boosting_type': 'gbdt'})\n",
    "    params_set.update({'objective': 'regression'})\n",
    "    \n",
    "    params_set['max_depth'] = int(round(params_set['max_depth']))\n",
    "    params_set['num_leaves'] = int(round(params_set['num_leaves']))\n",
    "    params_set['n_estimators'] = int(round(params_set['n_estimators']))\n",
    "    params_set['seed'] = 1 #set seed\n",
    "    \n",
    "    return params_set"
   ]
  },
  {
   "cell_type": "code",
   "execution_count": 25,
   "id": "e2a0fac6",
   "metadata": {
    "execution": {
     "iopub.execute_input": "2023-01-22T15:59:52.848770Z",
     "iopub.status.busy": "2023-01-22T15:59:52.848517Z",
     "iopub.status.idle": "2023-01-22T15:59:52.857412Z",
     "shell.execute_reply": "2023-01-22T15:59:52.856459Z"
    },
    "papermill": {
     "duration": 0.021712,
     "end_time": "2023-01-22T15:59:52.860115",
     "exception": false,
     "start_time": "2023-01-22T15:59:52.838403",
     "status": "completed"
    },
    "tags": []
   },
   "outputs": [],
   "source": [
    "# This function will apply 5 fold cross validation with early stopping\n",
    "def K_Fold_LightGBM(X_train, y_train , cat_features, num_folds = 5):\n",
    "    num = 0\n",
    "    models = []\n",
    "    folds = KFold(n_splits=num_folds, shuffle=True, random_state=0)\n",
    "\n",
    "    avg_r2 = 0\n",
    "    for n_fold, (train_idx, valid_idx) in enumerate (folds.split(X_train, y_train)):\n",
    "        print(f\"model : {num}\")\n",
    "        train_X, train_y = X_train.iloc[train_idx], y_train.iloc[train_idx]\n",
    "        valid_X, valid_y = X_train.iloc[valid_idx], y_train.iloc[valid_idx]\n",
    "        \n",
    "        train_data=lgb.Dataset(train_X,label=train_y, categorical_feature = cat_features,free_raw_data=False)\n",
    "        valid_data=lgb.Dataset(valid_X,label=valid_y, categorical_feature = cat_features,free_raw_data=False)\n",
    "        \n",
    "        params_set = search_best_param(train_X,train_y,cat_features)\n",
    "        CV_LGBM = lgb.train(params_set,\n",
    "                            train_data,\n",
    "                            num_boost_round = 2500,\n",
    "                            valid_sets = valid_data,\n",
    "                            early_stopping_rounds = 200,\n",
    "                            verbose_eval = 100\n",
    "                           )\n",
    "        \n",
    "    \n",
    "        # increase early_stopping_rounds can lead to overfitting \n",
    "        models.append(CV_LGBM)\n",
    "        tr_r2 = r2_score(train_y,models[num].predict(train_X))\n",
    "        test_r2 = r2_score(valid_y,models[num].predict(valid_X))\n",
    "        print(\"Train set r2:\", tr_r2)\n",
    "        print(\"Test set r2:\", test_r2)\n",
    "        print(\"\\n\")\n",
    "        num = num + 1\n",
    "        avg_r2 = avg_r2 + test_r2\n",
    "    mean_r2 =   avg_r2/num_folds\n",
    "    print(\"mean r2\", mean_r2)\n",
    "    return models\n",
    "\n"
   ]
  },
  {
   "cell_type": "code",
   "execution_count": 26,
   "id": "d7e07e9a",
   "metadata": {
    "execution": {
     "iopub.execute_input": "2023-01-22T15:59:52.879860Z",
     "iopub.status.busy": "2023-01-22T15:59:52.879565Z",
     "iopub.status.idle": "2023-01-22T16:42:42.924096Z",
     "shell.execute_reply": "2023-01-22T16:42:42.923353Z"
    },
    "papermill": {
     "duration": 2570.056934,
     "end_time": "2023-01-22T16:42:42.926312",
     "exception": false,
     "start_time": "2023-01-22T15:59:52.869378",
     "status": "completed"
    },
    "tags": []
   },
   "outputs": [
    {
     "name": "stdout",
     "output_type": "stream",
     "text": [
      "model : 0\n",
      "Training until validation scores don't improve for 200 rounds\n",
      "[100]\tvalid_0's rmse: 82647.5\n",
      "[200]\tvalid_0's rmse: 82738.3\n",
      "Early stopping, best iteration is:\n",
      "[35]\tvalid_0's rmse: 82577.9\n",
      "Train set r2: 0.16677277043765792\n",
      "Test set r2: 0.16555104241203855\n",
      "\n",
      "\n",
      "model : 1\n",
      "Training until validation scores don't improve for 200 rounds\n",
      "[100]\tvalid_0's rmse: 84155.2\n",
      "[200]\tvalid_0's rmse: 84309.7\n",
      "Early stopping, best iteration is:\n",
      "[44]\tvalid_0's rmse: 84044.8\n",
      "Train set r2: 0.17032026070683548\n",
      "Test set r2: 0.16055229835875384\n",
      "\n",
      "\n",
      "model : 2\n",
      "Training until validation scores don't improve for 200 rounds\n",
      "[100]\tvalid_0's rmse: 84924.9\n",
      "[200]\tvalid_0's rmse: 85061.9\n",
      "Early stopping, best iteration is:\n",
      "[40]\tvalid_0's rmse: 84846.6\n",
      "Train set r2: 0.16968436964826572\n",
      "Test set r2: 0.15922416033566922\n",
      "\n",
      "\n",
      "model : 3\n",
      "Training until validation scores don't improve for 200 rounds\n",
      "[100]\tvalid_0's rmse: 80906\n",
      "[200]\tvalid_0's rmse: 81026.3\n",
      "Early stopping, best iteration is:\n",
      "[26]\tvalid_0's rmse: 80752.8\n",
      "Train set r2: 0.16667532589430367\n",
      "Test set r2: 0.1588116089212691\n",
      "\n",
      "\n",
      "model : 4\n",
      "Training until validation scores don't improve for 200 rounds\n",
      "[100]\tvalid_0's rmse: 82882.1\n",
      "[200]\tvalid_0's rmse: 83016.6\n",
      "Early stopping, best iteration is:\n",
      "[40]\tvalid_0's rmse: 82845.8\n",
      "Train set r2: 0.17255350048025075\n",
      "Test set r2: 0.1578098625995733\n",
      "\n",
      "\n",
      "mean r2 0.16038979452546082\n"
     ]
    }
   ],
   "source": [
    "# Training our data for 5 folds and getting our 5 models as outputs for prediction\n",
    "lgbm_models = K_Fold_LightGBM(train_x,train_y,cat_features,5)"
   ]
  },
  {
   "cell_type": "markdown",
   "id": "bcbd607b",
   "metadata": {
    "papermill": {
     "duration": 0.010454,
     "end_time": "2023-01-22T16:42:42.948971",
     "exception": false,
     "start_time": "2023-01-22T16:42:42.938517",
     "status": "completed"
    },
    "tags": []
   },
   "source": [
    "**Inference**"
   ]
  },
  {
   "cell_type": "code",
   "execution_count": 27,
   "id": "3a686b96",
   "metadata": {
    "execution": {
     "iopub.execute_input": "2023-01-22T16:42:42.970836Z",
     "iopub.status.busy": "2023-01-22T16:42:42.970559Z",
     "iopub.status.idle": "2023-01-22T16:42:42.975264Z",
     "shell.execute_reply": "2023-01-22T16:42:42.974249Z"
    },
    "papermill": {
     "duration": 0.018225,
     "end_time": "2023-01-22T16:42:42.977418",
     "exception": false,
     "start_time": "2023-01-22T16:42:42.959193",
     "status": "completed"
    },
    "tags": []
   },
   "outputs": [],
   "source": [
    "# This function will take model and test data and will predict our test data with that model.\n",
    "def predict_cv(model,X):\n",
    "    y_preds = model.predict(X)\n",
    "        \n",
    "    return y_preds"
   ]
  },
  {
   "cell_type": "code",
   "execution_count": 28,
   "id": "d94cd10f",
   "metadata": {
    "execution": {
     "iopub.execute_input": "2023-01-22T16:42:42.999320Z",
     "iopub.status.busy": "2023-01-22T16:42:42.998796Z",
     "iopub.status.idle": "2023-01-22T16:42:43.195281Z",
     "shell.execute_reply": "2023-01-22T16:42:43.194490Z"
    },
    "papermill": {
     "duration": 0.210025,
     "end_time": "2023-01-22T16:42:43.197730",
     "exception": false,
     "start_time": "2023-01-22T16:42:42.987705",
     "status": "completed"
    },
    "tags": []
   },
   "outputs": [],
   "source": [
    "# ensembling predictions from first and last model\n",
    "# predicting on test dataset using first and fifth model\n",
    "y_prediction_1 = predict_cv(lgbm_models[0],test_x)\n",
    "y_prediction_5 = predict_cv(lgbm_models[-1],test_x)"
   ]
  },
  {
   "cell_type": "code",
   "execution_count": 29,
   "id": "c7f6b05b",
   "metadata": {
    "execution": {
     "iopub.execute_input": "2023-01-22T16:42:43.221784Z",
     "iopub.status.busy": "2023-01-22T16:42:43.221363Z",
     "iopub.status.idle": "2023-01-22T16:42:43.226277Z",
     "shell.execute_reply": "2023-01-22T16:42:43.225333Z"
    },
    "papermill": {
     "duration": 0.01831,
     "end_time": "2023-01-22T16:42:43.228453",
     "exception": false,
     "start_time": "2023-01-22T16:42:43.210143",
     "status": "completed"
    },
    "tags": []
   },
   "outputs": [],
   "source": [
    "y_prediction_final = (y_prediction_1 + y_prediction_5)/2"
   ]
  },
  {
   "cell_type": "markdown",
   "id": "ce8fe751",
   "metadata": {
    "papermill": {
     "duration": 0.010062,
     "end_time": "2023-01-22T16:42:43.248773",
     "exception": false,
     "start_time": "2023-01-22T16:42:43.238711",
     "status": "completed"
    },
    "tags": []
   },
   "source": [
    "**Generating Submission File**"
   ]
  },
  {
   "cell_type": "code",
   "execution_count": 30,
   "id": "7598f43c",
   "metadata": {
    "execution": {
     "iopub.execute_input": "2023-01-22T16:42:43.270413Z",
     "iopub.status.busy": "2023-01-22T16:42:43.270149Z",
     "iopub.status.idle": "2023-01-22T16:42:43.279102Z",
     "shell.execute_reply": "2023-01-22T16:42:43.278121Z"
    },
    "papermill": {
     "duration": 0.023114,
     "end_time": "2023-01-22T16:42:43.282161",
     "exception": false,
     "start_time": "2023-01-22T16:42:43.259047",
     "status": "completed"
    },
    "tags": []
   },
   "outputs": [
    {
     "data": {
      "text/html": [
       "<div>\n",
       "<style scoped>\n",
       "    .dataframe tbody tr th:only-of-type {\n",
       "        vertical-align: middle;\n",
       "    }\n",
       "\n",
       "    .dataframe tbody tr th {\n",
       "        vertical-align: top;\n",
       "    }\n",
       "\n",
       "    .dataframe thead th {\n",
       "        text-align: right;\n",
       "    }\n",
       "</style>\n",
       "<table border=\"1\" class=\"dataframe\">\n",
       "  <thead>\n",
       "    <tr style=\"text-align: right;\">\n",
       "      <th></th>\n",
       "      <th>id</th>\n",
       "      <th>cltv</th>\n",
       "    </tr>\n",
       "  </thead>\n",
       "  <tbody>\n",
       "    <tr>\n",
       "      <th>0</th>\n",
       "      <td>89393</td>\n",
       "      <td>97952.828978</td>\n",
       "    </tr>\n",
       "    <tr>\n",
       "      <th>1</th>\n",
       "      <td>89394</td>\n",
       "      <td>97952.828978</td>\n",
       "    </tr>\n",
       "  </tbody>\n",
       "</table>\n",
       "</div>"
      ],
      "text/plain": [
       "      id          cltv\n",
       "0  89393  97952.828978\n",
       "1  89394  97952.828978"
      ]
     },
     "execution_count": 30,
     "metadata": {},
     "output_type": "execute_result"
    }
   ],
   "source": [
    "submission.head(2)"
   ]
  },
  {
   "cell_type": "code",
   "execution_count": 31,
   "id": "120413fc",
   "metadata": {
    "execution": {
     "iopub.execute_input": "2023-01-22T16:42:43.304024Z",
     "iopub.status.busy": "2023-01-22T16:42:43.303772Z",
     "iopub.status.idle": "2023-01-22T16:42:43.308636Z",
     "shell.execute_reply": "2023-01-22T16:42:43.307817Z"
    },
    "papermill": {
     "duration": 0.017895,
     "end_time": "2023-01-22T16:42:43.310512",
     "exception": false,
     "start_time": "2023-01-22T16:42:43.292617",
     "status": "completed"
    },
    "tags": []
   },
   "outputs": [],
   "source": [
    "# replacing submission column with predicted values\n",
    "submission['cltv'] = y_prediction_final"
   ]
  },
  {
   "cell_type": "code",
   "execution_count": 32,
   "id": "f63540fb",
   "metadata": {
    "execution": {
     "iopub.execute_input": "2023-01-22T16:42:43.332129Z",
     "iopub.status.busy": "2023-01-22T16:42:43.331881Z",
     "iopub.status.idle": "2023-01-22T16:42:43.339914Z",
     "shell.execute_reply": "2023-01-22T16:42:43.339036Z"
    },
    "papermill": {
     "duration": 0.021002,
     "end_time": "2023-01-22T16:42:43.341768",
     "exception": false,
     "start_time": "2023-01-22T16:42:43.320766",
     "status": "completed"
    },
    "tags": []
   },
   "outputs": [
    {
     "data": {
      "text/html": [
       "<div>\n",
       "<style scoped>\n",
       "    .dataframe tbody tr th:only-of-type {\n",
       "        vertical-align: middle;\n",
       "    }\n",
       "\n",
       "    .dataframe tbody tr th {\n",
       "        vertical-align: top;\n",
       "    }\n",
       "\n",
       "    .dataframe thead th {\n",
       "        text-align: right;\n",
       "    }\n",
       "</style>\n",
       "<table border=\"1\" class=\"dataframe\">\n",
       "  <thead>\n",
       "    <tr style=\"text-align: right;\">\n",
       "      <th></th>\n",
       "      <th>id</th>\n",
       "      <th>cltv</th>\n",
       "    </tr>\n",
       "  </thead>\n",
       "  <tbody>\n",
       "    <tr>\n",
       "      <th>0</th>\n",
       "      <td>89393</td>\n",
       "      <td>93010.232020</td>\n",
       "    </tr>\n",
       "    <tr>\n",
       "      <th>1</th>\n",
       "      <td>89394</td>\n",
       "      <td>131938.330744</td>\n",
       "    </tr>\n",
       "    <tr>\n",
       "      <th>2</th>\n",
       "      <td>89395</td>\n",
       "      <td>94304.040763</td>\n",
       "    </tr>\n",
       "    <tr>\n",
       "      <th>3</th>\n",
       "      <td>89396</td>\n",
       "      <td>87152.184771</td>\n",
       "    </tr>\n",
       "    <tr>\n",
       "      <th>4</th>\n",
       "      <td>89397</td>\n",
       "      <td>130948.746454</td>\n",
       "    </tr>\n",
       "  </tbody>\n",
       "</table>\n",
       "</div>"
      ],
      "text/plain": [
       "      id           cltv\n",
       "0  89393   93010.232020\n",
       "1  89394  131938.330744\n",
       "2  89395   94304.040763\n",
       "3  89396   87152.184771\n",
       "4  89397  130948.746454"
      ]
     },
     "execution_count": 32,
     "metadata": {},
     "output_type": "execute_result"
    }
   ],
   "source": [
    "submission.head()"
   ]
  },
  {
   "cell_type": "code",
   "execution_count": 33,
   "id": "2391ea3d",
   "metadata": {
    "execution": {
     "iopub.execute_input": "2023-01-22T16:42:43.364231Z",
     "iopub.status.busy": "2023-01-22T16:42:43.363966Z",
     "iopub.status.idle": "2023-01-22T16:42:43.475579Z",
     "shell.execute_reply": "2023-01-22T16:42:43.474646Z"
    },
    "papermill": {
     "duration": 0.125446,
     "end_time": "2023-01-22T16:42:43.477931",
     "exception": false,
     "start_time": "2023-01-22T16:42:43.352485",
     "status": "completed"
    },
    "tags": []
   },
   "outputs": [],
   "source": [
    "# Saving the submission dataframe to a csv file\n",
    "submission.to_csv(\"final_prediction_J.csv\",index=False)"
   ]
  },
  {
   "cell_type": "code",
   "execution_count": null,
   "id": "ec4b6eda",
   "metadata": {
    "papermill": {
     "duration": 0.010375,
     "end_time": "2023-01-22T16:42:43.499309",
     "exception": false,
     "start_time": "2023-01-22T16:42:43.488934",
     "status": "completed"
    },
    "tags": []
   },
   "outputs": [],
   "source": []
  }
 ],
 "metadata": {
  "kernelspec": {
   "display_name": "Python 3",
   "language": "python",
   "name": "python3"
  },
  "language_info": {
   "codemirror_mode": {
    "name": "ipython",
    "version": 3
   },
   "file_extension": ".py",
   "mimetype": "text/x-python",
   "name": "python",
   "nbconvert_exporter": "python",
   "pygments_lexer": "ipython3",
   "version": "3.8.8"
  },
  "papermill": {
   "default_parameters": {},
   "duration": 2583.341174,
   "end_time": "2023-01-22T16:42:44.434627",
   "environment_variables": {},
   "exception": null,
   "input_path": "__notebook__.ipynb",
   "output_path": "__notebook__.ipynb",
   "parameters": {},
   "start_time": "2023-01-22T15:59:41.093453",
   "version": "2.3.4"
  }
 },
 "nbformat": 4,
 "nbformat_minor": 5
}
